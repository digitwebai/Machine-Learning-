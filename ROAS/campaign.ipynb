{
 "cells": [
  {
   "cell_type": "code",
   "execution_count": 1,
   "id": "35ab52eb",
   "metadata": {},
   "outputs": [
    {
     "ename": "ModuleNotFoundError",
     "evalue": "No module named 'google'",
     "output_type": "error",
     "traceback": [
      "\u001b[31m---------------------------------------------------------------------------\u001b[39m",
      "\u001b[31mModuleNotFoundError\u001b[39m                       Traceback (most recent call last)",
      "\u001b[36mCell\u001b[39m\u001b[36m \u001b[39m\u001b[32mIn[1]\u001b[39m\u001b[32m, line 1\u001b[39m\n\u001b[32m----> \u001b[39m\u001b[32m1\u001b[39m \u001b[38;5;28;01mfrom\u001b[39;00m\u001b[38;5;250m \u001b[39m\u001b[34;01mgoogle\u001b[39;00m\u001b[34;01m.\u001b[39;00m\u001b[34;01mads\u001b[39;00m\u001b[34;01m.\u001b[39;00m\u001b[34;01mgoogleads\u001b[39;00m\u001b[34;01m.\u001b[39;00m\u001b[34;01mclient\u001b[39;00m\u001b[38;5;250m \u001b[39m\u001b[38;5;28;01mimport\u001b[39;00m GoogleAdsClient\n\u001b[32m      2\u001b[39m \u001b[38;5;28;01mfrom\u001b[39;00m\u001b[38;5;250m \u001b[39m\u001b[34;01mgoogle\u001b[39;00m\u001b[34;01m.\u001b[39;00m\u001b[34;01mads\u001b[39;00m\u001b[34;01m.\u001b[39;00m\u001b[34;01mgoogleads\u001b[39;00m\u001b[34;01m.\u001b[39;00m\u001b[34;01merrors\u001b[39;00m\u001b[38;5;250m \u001b[39m\u001b[38;5;28;01mimport\u001b[39;00m GoogleAdsException\n\u001b[32m      4\u001b[39m \u001b[38;5;66;03m# Replace with your customer ID and developer token\u001b[39;00m\n",
      "\u001b[31mModuleNotFoundError\u001b[39m: No module named 'google'"
     ]
    }
   ],
   "source": [
    "from google.ads.googleads.client import GoogleAdsClient\n",
    "from google.ads.googleads.errors import GoogleAdsException\n",
    "\n",
    "# Replace with your customer ID and developer token\n",
    "CUSTOMER_ID = '4503486236'  # e.g., '123-456-7890'\n",
    "DEVELOPER_TOKEN = '8xG5VbKfJ0ue0bN5JAvPyw'\n",
    "\n",
    "def main():\n",
    "    # Initialize the Google Ads client using the client.json from the installed app setup\n",
    "    client = GoogleAdsClient.load_from_storage(\"google-ads.yaml\")\n",
    "\n",
    "    # Create a GoogleAdsService client\n",
    "    googleads_service = client.get_service(\"GoogleAdsService\")\n",
    "\n",
    "    # Construct the GAQL query\n",
    "    query = \"\"\"\n",
    "        SELECT campaign.id, campaign.name, metrics.clicks, metrics.impressions, metrics.cost_micros\n",
    "        FROM campaign\n",
    "        WHERE segments.date DURING LAST_30_DAYS\n",
    "    \"\"\"\n",
    "\n",
    "    try:\n",
    "        # Issue the search request\n",
    "        response = googleads_service.search(\n",
    "            customer_id=CUSTOMER_ID,\n",
    "            query=query\n",
    "        )\n",
    "\n",
    "        # Iterate over the results and print them\n",
    "        for row in response:\n",
    "            campaign = row.campaign\n",
    "            metrics = row.metrics\n",
    "            print(f\"Campaign ID: {campaign.id}, Name: {campaign.name},Clicks: {metrics.clicks} Impressions: {metrics.impressions}\")\n",
    "            print(f\"Cost (micros): {metrics.cost_micros}, Cost ($): {metrics.cost_micros / 1000000:.2f}\")\n",
    "            print(\"---\")\n",
    "\n",
    "    except GoogleAdsException as ex:\n",
    "        print(f\"An error occurred: {ex}\")\n",
    "        for error in ex.failure.errors:\n",
    "            print(f\"Error with message: {error.message}\")\n",
    "            if error.location:\n",
    "                for field_path_element in error.location.field_path_elements:\n",
    "                    print(f\"\\tOn field: {field_path_element.field_name}\")\n",
    "\n",
    "if __name__ == \"__main__\":\n",
    "    main()"
   ]
  }
 ],
 "metadata": {
  "kernelspec": {
   "display_name": "Python 3",
   "language": "python",
   "name": "python3"
  },
  "language_info": {
   "codemirror_mode": {
    "name": "ipython",
    "version": 3
   },
   "file_extension": ".py",
   "mimetype": "text/x-python",
   "name": "python",
   "nbconvert_exporter": "python",
   "pygments_lexer": "ipython3",
   "version": "3.12.0"
  }
 },
 "nbformat": 4,
 "nbformat_minor": 5
}
